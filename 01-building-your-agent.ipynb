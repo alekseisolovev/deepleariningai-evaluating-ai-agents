{
 "cells": [
  {
   "cell_type": "markdown",
   "id": "44ce8079-c3b4-4537-844e-7e6d6706e923",
   "metadata": {},
   "source": [
    "# Lab 1: Building your Agent "
   ]
  },
  {
   "cell_type": "markdown",
   "id": "0a4c9a24-4d77-43ca-84fd-5155b4e4c777",
   "metadata": {},
   "source": [
    "The agent is comprised of a router using OpenAI function calling, and a set of three tools: a database lookup tool, a data analysis tool, and a code generator to create graphs.\n",
    "\n",
    "The agent can lookup information from a local file, perform analysis on that information, and graph results. The example local file is a log of transactions at a local store. The agent can help the store owners understand trends and anomalies in their sales data."
   ]
  },
  {
   "cell_type": "markdown",
   "id": "fb9a4f62-de25-4a66-8cdb-f33d1e92ad92",
   "metadata": {},
   "source": [
    "## Importing necessary libraries "
   ]
  },
  {
   "cell_type": "code",
   "execution_count": 1,
   "id": "e4d6c602-28a5-42f2-9e53-33dac5846cba",
   "metadata": {
    "height": 149
   },
   "outputs": [],
   "source": [
    "import json\n",
    "\n",
    "import duckdb\n",
    "import pandas as pd\n",
    "from helper import get_openai_api_key\n",
    "from IPython.display import Markdown\n",
    "from openai import OpenAI\n",
    "from pydantic import BaseModel, Field"
   ]
  },
  {
   "cell_type": "markdown",
   "id": "30f7f1fb-fea2-475b-9a90-a70eea108153",
   "metadata": {},
   "source": [
    "## Initializing the OpenAI client"
   ]
  },
  {
   "cell_type": "code",
   "execution_count": 2,
   "id": "a5bbb872-2328-4283-b544-9a4c6ba960d3",
   "metadata": {
    "height": 98
   },
   "outputs": [],
   "source": [
    "# initialize the OpenAI client\n",
    "openai_api_key = get_openai_api_key()\n",
    "client = OpenAI(api_key=openai_api_key)\n",
    "\n",
    "MODEL = \"gpt-4o-mini\""
   ]
  },
  {
   "cell_type": "markdown",
   "id": "2503d9fe-e023-4446-b1b2-4633ab0efd8e",
   "metadata": {},
   "source": [
    "## Defining the tools"
   ]
  },
  {
   "cell_type": "markdown",
   "id": "f3f909b1-689e-4d61-8f8d-c6f35520ad66",
   "metadata": {},
   "source": [
    "Let's start by creating the three tools the agent will be able to use."
   ]
  },
  {
   "cell_type": "markdown",
   "id": "cded04f0-ea0d-48b1-83d0-1bfc84ea170e",
   "metadata": {},
   "source": [
    "### Tool 1: Database Lookup"
   ]
  },
  {
   "cell_type": "markdown",
   "id": "1761c2e1-b100-4d3c-b4d7-8c3b4b709c54",
   "metadata": {},
   "source": [
    "This first tool reads from a local parquet file that contains the transaction data. "
   ]
  },
  {
   "cell_type": "code",
   "execution_count": 3,
   "id": "78dbdaf9-d5e0-4f0d-aa41-318020ab7b1e",
   "metadata": {
    "height": 62
   },
   "outputs": [],
   "source": [
    "# define the path to the transactional data\n",
    "TRANSACTION_DATA_FILE_PATH = \"data/Store_Sales_Price_Elasticity_Promotions_Data.parquet\""
   ]
  },
  {
   "cell_type": "markdown",
   "id": "0b7a0d24-185a-47a4-a27b-3959cb1e0ba1",
   "metadata": {},
   "source": [
    "This database lookup tool works using three steps. \n",
    "\n",
    "1. First, it creates the SQL table from a local file, if not already done.\n",
    "2. Second, it translates the original prompt into an sql query (using an LLM call).\n",
    "3. Finally, it runs that query against the database."
   ]
  },
  {
   "cell_type": "code",
   "execution_count": 4,
   "id": "2dd37619-7785-41de-9986-6260d6e17221",
   "metadata": {
    "height": 164
   },
   "outputs": [],
   "source": [
    "# prompt template for step 2 of tool 1\n",
    "SQL_GENERATION_PROMPT = \"\"\"\n",
    "Generate an SQL query based on a prompt. Do not reply with anything besides the SQL query.\n",
    "The prompt is: {prompt}\n",
    "\n",
    "The available columns are: {columns}\n",
    "The table name is: {table_name}\n",
    "\"\"\""
   ]
  },
  {
   "cell_type": "code",
   "execution_count": 5,
   "id": "1b7c2f28-2ec1-43de-b555-d300d916c47d",
   "metadata": {
    "height": 249
   },
   "outputs": [],
   "source": [
    "# code for step 2 of tool 1\n",
    "def generate_sql_query(prompt: str, columns: list, table_name: str) -> str:\n",
    "    \"\"\"Generate an SQL query based on a prompt\"\"\"\n",
    "    formatted_prompt = SQL_GENERATION_PROMPT.format(\n",
    "        prompt=prompt, columns=columns, table_name=table_name\n",
    "    )\n",
    "\n",
    "    response = client.chat.completions.create(\n",
    "        model=MODEL,\n",
    "        messages=[{\"role\": \"user\", \"content\": formatted_prompt}],\n",
    "    )\n",
    "\n",
    "    return response.choices[0].message.content"
   ]
  },
  {
   "cell_type": "code",
   "execution_count": 6,
   "id": "cdb59fa5-f096-4ba6-9967-4dffea8aa5cb",
   "metadata": {
    "height": 436
   },
   "outputs": [],
   "source": [
    "# code for tool 1\n",
    "def lookup_sales_data(prompt: str) -> str:\n",
    "    \"\"\"Implementation of sales data lookup from parquet file using SQL\"\"\"\n",
    "    try:\n",
    "\n",
    "        # define the table name\n",
    "        table_name = \"sales\"\n",
    "\n",
    "        # step 1: read the parquet file into a DuckDB table\n",
    "        df = pd.read_parquet(TRANSACTION_DATA_FILE_PATH)\n",
    "        duckdb.sql(f\"CREATE TABLE IF NOT EXISTS {table_name} AS SELECT * FROM df\")\n",
    "\n",
    "        # step 2: generate the SQL code\n",
    "        sql_query = generate_sql_query(prompt, df.columns, table_name)\n",
    "        # clean the response to make sure it only includes the SQL code\n",
    "        sql_query = sql_query.strip()\n",
    "        sql_query = sql_query.replace(\"```sql\", \"\").replace(\"```\", \"\")\n",
    "\n",
    "        # step 3: execute the SQL query\n",
    "        result = duckdb.sql(sql_query).df()\n",
    "\n",
    "        return result.to_string()\n",
    "    except Exception as e:\n",
    "        return f\"Error accessing data: {str(e)}\""
   ]
  },
  {
   "cell_type": "markdown",
   "id": "f044f10e-6fd1-4514-94b5-3d62fe2b23d1",
   "metadata": {},
   "source": [
    "Great! Now let's test the first tool and make sure it worked correctly."
   ]
  },
  {
   "cell_type": "code",
   "execution_count": 7,
   "id": "7391d9ff-55f1-4b1d-bfe5-a4df403bf4b9",
   "metadata": {
    "height": 62
   },
   "outputs": [
    {
     "name": "stdout",
     "output_type": "stream",
     "text": [
      "    Store_Number  SKU_Coded  Product_Class_Code  Sold_Date  Qty_Sold  Total_Sale_Value  On_Promo\n",
      "0           1320    6173050               22875 2021-11-01         1          4.990000         0\n",
      "1           1320    6174250               22875 2021-11-01         1          0.890000         0\n",
      "2           1320    6176200               22975 2021-11-01         2         99.980003         0\n",
      "3           1320    6176800               22800 2021-11-01         1         14.970000         0\n",
      "4           1320    6177250               22975 2021-11-01         1          6.890000         0\n",
      "5           1320    6177300               22800 2021-11-01         1          9.990000         0\n",
      "6           1320    6177350               22800 2021-11-01         2         16.980000         0\n",
      "7           1320    6177700               22875 2021-11-01         1          3.190000         0\n",
      "8           1320    6178000               22875 2021-11-01         2          6.380000         0\n",
      "9           1320    6178250               22800 2021-11-01         1         16.590000         0\n",
      "10          1320    6179250               24400 2021-11-01         1         14.990000         0\n",
      "11          1320    6179300               22800 2021-11-01         2          9.980000         0\n",
      "12          1320    6179400               24400 2021-11-01         2         29.980000         0\n",
      "13          1320    6179450               24400 2021-11-01         1         14.990000         0\n",
      "14          1320    6179500               24400 2021-11-01         1         14.990000         0\n",
      "15          1320    6179750               22800 2021-11-01         2         39.980000         0\n",
      "16          1320    6180550               22975 2021-11-01         1         15.990000         0\n",
      "17          1320    6182050               22975 2021-11-01         1          7.990000         0\n",
      "18          1320    6183750               22850 2021-11-01         3         38.970001         0\n",
      "19          1320    6184100               22975 2021-11-01         3         59.970001         0\n",
      "20          1320    6188550               22950 2021-11-01         2         15.980000         0\n",
      "21          1320    6190050               24425 2021-11-01         5         19.950001         0\n",
      "22          1320    6190150               24425 2021-11-01         1          8.990000         0\n",
      "23          1320    6190200               24425 2021-11-01         1          8.990000         0\n",
      "24          1320    6190250               24425 2021-11-01         1          7.990000         0\n",
      "25          1320    6190350               22950 2021-11-01         1          6.990000         0\n",
      "26          1320    6190400               22950 2021-11-01         1          6.990000         0\n",
      "27          1320    6193750               22875 2021-11-01         1          6.990000         0\n",
      "28          1320    6195350               24375 2021-11-01         1         16.990000         0\n",
      "29          1320    6195800               22850 2021-11-01         3         25.719999         1\n"
     ]
    }
   ],
   "source": [
    "example_data = lookup_sales_data(\n",
    "    \"Show me all the sales for store 1320 on November 1st, 2021\"\n",
    ")\n",
    "print(example_data)"
   ]
  },
  {
   "cell_type": "markdown",
   "id": "481388d3-578d-492b-a53c-46811ac573d7",
   "metadata": {},
   "source": [
    "### Tool 2: Data Analysis"
   ]
  },
  {
   "cell_type": "markdown",
   "id": "153a6d53-fcae-41bd-9d3c-e90960874737",
   "metadata": {},
   "source": [
    "The second tool can analyze the returned data and display conclusions to users."
   ]
  },
  {
   "cell_type": "code",
   "execution_count": 8,
   "id": "a3510f56-30c5-446d-a41f-bec5e4a1de36",
   "metadata": {
    "height": 113
   },
   "outputs": [],
   "source": [
    "# Construct prompt based on analysis type and data subset\n",
    "DATA_ANALYSIS_PROMPT = \"\"\"\n",
    "Analyze the following data: {data}\n",
    "Your job is to answer the following question: {prompt}\n",
    "\"\"\""
   ]
  },
  {
   "cell_type": "code",
   "execution_count": 9,
   "id": "23cb7932-79be-455f-b4fb-83db752d5e43",
   "metadata": {
    "height": 232
   },
   "outputs": [],
   "source": [
    "# code for tool 2\n",
    "def analyze_sales_data(prompt: str, data: str) -> str:\n",
    "    \"\"\"Implementation of AI-powered sales data analysis\"\"\"\n",
    "    formatted_prompt = DATA_ANALYSIS_PROMPT.format(data=data, prompt=prompt)\n",
    "\n",
    "    response = client.chat.completions.create(\n",
    "        model=MODEL,\n",
    "        messages=[{\"role\": \"user\", \"content\": formatted_prompt}],\n",
    "    )\n",
    "\n",
    "    analysis = response.choices[0].message.content\n",
    "    return analysis if analysis else \"No analysis could be generated\""
   ]
  },
  {
   "cell_type": "markdown",
   "id": "da97ea8e-c101-4e1b-88d0-8ce088590373",
   "metadata": {},
   "source": [
    "This tool is relatively simple, but let's still test it out to be sure things are working correctly."
   ]
  },
  {
   "cell_type": "code",
   "execution_count": 10,
   "id": "18042c0f-ba38-4ebd-925c-9bc7ae0f0b21",
   "metadata": {
    "height": 62
   },
   "outputs": [
    {
     "name": "stdout",
     "output_type": "stream",
     "text": [
      "Analyzing the provided sales data from a single store (Store_Number: 1320) for a specific date (2021-11-01), several trends and observations can be made:\n",
      "\n",
      "### Key Observations\n",
      "1. **Overall Sales Volume**:\n",
      "   - The dataset consists of 30 transactions. Each transaction indicates the quantity sold (Qty_Sold) and the total sale value (Total_Sale_Value).\n",
      "\n",
      "2. **Product Class Diversity**:\n",
      "   - The data includes multiple Product Classes, such as 22875, 22975, 22800, 24400, 24425, 22950, and 24375. This suggests a diverse inventory catering to various customer preferences.\n",
      "\n",
      "3. **Sales Performance of Individual Products**:\n",
      "   - The quantities sold vary, with some products sold in larger quantities (e.g., SKU_Coded 6190050 sold 5 units) compared to others that are sold in smaller numbers (e.g., several SKUs sold just 1 unit).\n",
      "   - High-value sales can be seen for SKU_Coded 6176200 (Qty_Sold: 2, Total_Sale_Value: $99.98).\n",
      "\n",
      "4. **Promotional Influence**:\n",
      "   - Only one product (SKU_Coded 6195800) was sold on promotion (On_Promo: 1), indicating that most sales occurred at regular prices (On_Promo: 0). The sole promotional item also garnered a solid quantity (3 sold) and was over $25 in total sales value, suggesting promotions can still be effective drivers of sales.\n",
      "\n",
      "5. **Sales Patterns**:\n",
      "   - Most SKUs had sales amounts under $20. This may imply a focus on affordability or value purchases, fitting a broader customer trend for lower-priced goods or the purchase of smaller quantities.\n",
      "   - However, a select number of SKUs achieved higher total sales value (greater than $20), indicating that while many consumers opt for lower-cost items, there is also a market for premium or higher-priced products.\n",
      "\n",
      "### Potential Trends\n",
      "1. **Low-Priced Items**:\n",
      "   - The majority of sales are from lower-priced items, highlighting customers' sensitivity to price and a potential conditioning of their purchasing behavior towards more affordable options.\n",
      "\n",
      "2. **Successful High-Value Items**:\n",
      "   - There exists a niche market for higher-priced items which can still drive significant sales. Analyzing customer feedback, buying behavior, and stock levels could provide insight into capitalizing on this segment.\n",
      "\n",
      "3. **Promotion Assessment**:\n",
      "   - The limited promotion may suggest opportunities for promotional strategies to increase sales volumes, particularly for high-demand seasonal products or to clear inventory for slow-selling items.\n",
      "\n",
      "4. **Potential for Further Analysis**:\n",
      "   - A more detailed analysis that includes temporal factors (daily, weekly, or seasonal trends) could provide further insights into customer buying patterns and product performance over time.\n",
      "   - Additional metrics such as customer demographics and behavior, return rates, or profit margins on sold items could help refine sales strategies.\n",
      "\n",
      "### Conclusion\n",
      "The data suggests a diverse product range selling mostly lower-priced items with occasional high-value products performing well. The absence of promotional activities on most transactions presents an opportunity for optimizing marketing strategies to boost overall sales. Further analysis could yield deeper insights into customer preferences and enhance inventory management practices.\n"
     ]
    }
   ],
   "source": [
    "print(\n",
    "    analyze_sales_data(prompt=\"what trends do you see in this data\", data=example_data)\n",
    ")"
   ]
  },
  {
   "cell_type": "markdown",
   "id": "0b071118-7538-4e21-a709-f50dcc606260",
   "metadata": {},
   "source": [
    "### Tool 3: Data Visualization"
   ]
  },
  {
   "cell_type": "markdown",
   "id": "1b694537-bafd-4df3-8354-0b6083d3d7ea",
   "metadata": {},
   "source": [
    "The third tool generates python code to create the requested graphs from the returned data of the first tool. It consists of two steps:\n",
    "<img src=\"images/tool3.png\" width=\"500\"/>\n",
    "1. First, it creates the chart configuration: chart type, title, data, lables for x-axis and y-axis (using an LLM call).\n",
    "2. Second, it generates the python code based on the chart configuration of the first step (using an LLM call)."
   ]
  },
  {
   "cell_type": "code",
   "execution_count": 11,
   "id": "5faad9a1-4452-4b89-98e6-c6a8a09f98cf",
   "metadata": {
    "height": 113
   },
   "outputs": [],
   "source": [
    "# prompt template for step 1 of tool 3\n",
    "CHART_CONFIGURATION_PROMPT = \"\"\"\n",
    "Generate a chart configuration based on this data: {data}\n",
    "The goal is to show: {visualization_goal}\n",
    "\"\"\""
   ]
  },
  {
   "cell_type": "code",
   "execution_count": 12,
   "id": "cd462935-d2c5-4de1-a094-b7bdf951cd66",
   "metadata": {
    "height": 130
   },
   "outputs": [],
   "source": [
    "# class defining the response format of step 1 of tool 3\n",
    "class VisualizationConfig(BaseModel):\n",
    "    chart_type: str = Field(..., description=\"Type of chart to generate\")\n",
    "    x_axis: str = Field(..., description=\"Name of the x-axis column\")\n",
    "    y_axis: str = Field(..., description=\"Name of the y-axis column\")\n",
    "    title: str = Field(..., description=\"Title of the chart\")"
   ]
  },
  {
   "cell_type": "code",
   "execution_count": 13,
   "id": "3396ccea-1e06-42fa-a667-2d8fc8332df7",
   "metadata": {
    "height": 708
   },
   "outputs": [],
   "source": [
    "# code for step 1 of tool 3\n",
    "def extract_chart_config(data: str, visualization_goal: str) -> dict:\n",
    "    \"\"\"Generate chart visualization configuration\n",
    "\n",
    "    Args:\n",
    "        data: String containing the data to visualize\n",
    "        visualization_goal: Description of what the visualization should show\n",
    "\n",
    "    Returns:\n",
    "        Dictionary containing line chart configuration\n",
    "    \"\"\"\n",
    "    formatted_prompt = CHART_CONFIGURATION_PROMPT.format(\n",
    "        data=data, visualization_goal=visualization_goal\n",
    "    )\n",
    "\n",
    "    response = client.beta.chat.completions.parse(\n",
    "        model=MODEL,\n",
    "        messages=[{\"role\": \"user\", \"content\": formatted_prompt}],\n",
    "        response_format=VisualizationConfig,\n",
    "    )\n",
    "\n",
    "    try:\n",
    "        # Extract axis and title info from response\n",
    "        content = response.choices[0].message.content\n",
    "\n",
    "        # Return structured chart config\n",
    "        return {\n",
    "            \"chart_type\": content.chart_type,\n",
    "            \"x_axis\": content.x_axis,\n",
    "            \"y_axis\": content.y_axis,\n",
    "            \"title\": content.title,\n",
    "            \"data\": data,\n",
    "        }\n",
    "    except Exception:\n",
    "        return {\n",
    "            \"chart_type\": \"line\",\n",
    "            \"x_axis\": \"date\",\n",
    "            \"y_axis\": \"value\",\n",
    "            \"title\": visualization_goal,\n",
    "            \"data\": data,\n",
    "        }"
   ]
  },
  {
   "cell_type": "code",
   "execution_count": 14,
   "id": "b0473365-8fb6-4e30-962d-9599cf514323",
   "metadata": {
    "height": 130
   },
   "outputs": [],
   "source": [
    "# prompt template for step 2 of tool 3\n",
    "CREATE_CHART_PROMPT = \"\"\"\n",
    "Write python code to create a chart based on the following configuration.\n",
    "Only return the code, no other text.\n",
    "config: {config}\n",
    "\"\"\""
   ]
  },
  {
   "cell_type": "code",
   "execution_count": 15,
   "id": "0832853e-e7dd-44eb-8fec-8f4524b9baa4",
   "metadata": {
    "height": 283
   },
   "outputs": [],
   "source": [
    "# code for step 2 of tool 3\n",
    "def create_chart(config: dict) -> str:\n",
    "    \"\"\"Create a chart based on the configuration\"\"\"\n",
    "    formatted_prompt = CREATE_CHART_PROMPT.format(config=config)\n",
    "\n",
    "    response = client.chat.completions.create(\n",
    "        model=MODEL,\n",
    "        messages=[{\"role\": \"user\", \"content\": formatted_prompt}],\n",
    "    )\n",
    "\n",
    "    code = response.choices[0].message.content\n",
    "    code = code.replace(\"```python\", \"\").replace(\"```\", \"\")\n",
    "    code = code.strip()\n",
    "\n",
    "    return code"
   ]
  },
  {
   "cell_type": "code",
   "execution_count": 16,
   "id": "0e4e96e8-0ec3-4580-be1e-d239d26c609b",
   "metadata": {
    "height": 130
   },
   "outputs": [],
   "source": [
    "# code for tool 3\n",
    "def generate_visualization(data: str, visualization_goal: str) -> str:\n",
    "    \"\"\"Generate a visualization based on the data and goal\"\"\"\n",
    "    config = extract_chart_config(data, visualization_goal)\n",
    "    code = create_chart(config)\n",
    "    return code"
   ]
  },
  {
   "cell_type": "markdown",
   "id": "7675259b-2978-4f08-bffa-804f0a65395c",
   "metadata": {},
   "source": [
    "Great, now let's try the third tool out:"
   ]
  },
  {
   "cell_type": "code",
   "execution_count": 17,
   "id": "001d0743-5b02-4cfc-a6a4-5b0bba80ea30",
   "metadata": {
    "height": 79
   },
   "outputs": [
    {
     "name": "stdout",
     "output_type": "stream",
     "text": [
      "import pandas as pd\n",
      "import matplotlib.pyplot as plt\n",
      "from io import StringIO\n",
      "\n",
      "data = \"\"\"Store_Number,SKU_Coded,Product_Class_Code,Sold_Date,Qty_Sold,Total_Sale_Value,On_Promo\n",
      "1320,6173050,22875,2021-11-01,1,4.99,0\n",
      "1320,6174250,22875,2021-11-01,1,0.89,0\n",
      "1320,6176200,22975,2021-11-01,2,99.98,0\n",
      "1320,6176800,22800,2021-11-01,1,14.97,0\n",
      "1320,6177250,22975,2021-11-01,1,6.89,0\n",
      "1320,6177300,22800,2021-11-01,1,9.99,0\n",
      "1320,6177350,22800,2021-11-01,2,16.98,0\n",
      "1320,6177700,22875,2021-11-01,1,3.19,0\n",
      "1320,6178000,22875,2021-11-01,2,6.38,0\n",
      "1320,6178250,22800,2021-11-01,1,16.59,0\n",
      "1320,6179250,24400,2021-11-01,1,14.99,0\n",
      "1320,6179300,22800,2021-11-01,2,9.98,0\n",
      "1320,6179400,24400,2021-11-01,2,29.98,0\n",
      "1320,6179450,24400,2021-11-01,1,14.99,0\n",
      "1320,6179500,24400,2021-11-01,1,14.99,0\n",
      "1320,6179750,22800,2021-11-01,2,39.98,0\n",
      "1320,6180550,22975,2021-11-01,1,15.99,0\n",
      "1320,6182050,22975,2021-11-01,1,7.99,0\n",
      "1320,6183750,22850,2021-11-01,3,38.97,0\n",
      "1320,6184100,22975,2021-11-01,3,59.97,0\n",
      "1320,6188550,22950,2021-11-01,2,15.98,0\n",
      "1320,6190050,24425,2021-11-01,5,19.95,0\n",
      "1320,6190150,24425,2021-11-01,1,8.99,0\n",
      "1320,6190200,24425,2021-11-01,1,8.99,0\n",
      "1320,6190250,24425,2021-11-01,1,7.99,0\n",
      "1320,6190350,22950,2021-11-01,1,6.99,0\n",
      "1320,6190400,22950,2021-11-01,1,6.99,0\n",
      "1320,6193750,22875,2021-11-01,1,6.99,0\n",
      "1320,6195350,24375,2021-11-01,1,16.99,0\n",
      "1320,6195800,22850,2021-11-01,3,25.72,1\n",
      "\"\"\"\n",
      "\n",
      "df = pd.read_csv(StringIO(data), parse_dates=['Sold_Date'])\n",
      "\n",
      "plt.figure(figsize=(12, 6))\n",
      "plt.plot(df['Sold_Date'], df['Total_Sale_Value'], marker='o')\n",
      "plt.title('A bar chart of sales by product SKU. Put the product SKU on the x-axis and the sales on the y-axis.')\n",
      "plt.xlabel('Date')\n",
      "plt.ylabel('Sales Value')\n",
      "plt.xticks(rotation=45)\n",
      "plt.tight_layout()\n",
      "plt.grid()\n",
      "plt.show()\n"
     ]
    }
   ],
   "source": [
    "code = generate_visualization(\n",
    "    example_data,\n",
    "    \"A bar chart of sales by product SKU. Put the product SKU on the x-axis and the sales on the y-axis.\",\n",
    ")\n",
    "print(code)"
   ]
  },
  {
   "cell_type": "code",
   "execution_count": 18,
   "id": "8a56266f-790d-4208-9788-02cab6cabfe9",
   "metadata": {
    "height": 30
   },
   "outputs": [
    {
     "data": {
      "image/png": "[encoded data removed]",
      "text/plain": [
       "<Figure size 1200x600 with 1 Axes>"
      ]
     },
     "metadata": {},
     "output_type": "display_data"
    }
   ],
   "source": [
    "exec(code)"
   ]
  },
  {
   "cell_type": "markdown",
   "id": "bdd7653b-a90d-4447-9b6b-646b00e5164b",
   "metadata": {},
   "source": [
    "## Defining the Router"
   ]
  },
  {
   "cell_type": "markdown",
   "id": "b823b2a6-1567-4a03-b829-22f6a3e167ea",
   "metadata": {},
   "source": [
    "Now that all of the tools are defined, you can create the router. The router will take the original user input, and is responsible for calling any tools. After each tool call is completed, the agent will return to router to determine whether another tool should be called."
   ]
  },
  {
   "cell_type": "markdown",
   "id": "d658c1a5-6328-4ca1-bdcf-7c03328aa0c8",
   "metadata": {},
   "source": [
    "### Tool Schema"
   ]
  },
  {
   "cell_type": "markdown",
   "id": "adf85e6a-c708-4ed5-8f43-e996c5f38c7f",
   "metadata": {},
   "source": [
    "Let's define the tools in a way that can be understood by our OpenAI model. OpenAI understands a specific JSON format:"
   ]
  },
  {
   "cell_type": "code",
   "execution_count": 19,
   "id": "d35f5886-32d7-4bc3-968b-4485ce20d7a3",
   "metadata": {
    "height": 946
   },
   "outputs": [],
   "source": [
    "# Define tools/functions that can be called by the model\n",
    "tools = [\n",
    "    {\n",
    "        \"type\": \"function\",\n",
    "        \"function\": {\n",
    "            \"name\": \"lookup_sales_data\",\n",
    "            \"description\": \"Look up data from Store Sales Price Elasticity Promotions dataset\",\n",
    "            \"parameters\": {\n",
    "                \"type\": \"object\",\n",
    "                \"properties\": {\n",
    "                    \"prompt\": {\n",
    "                        \"type\": \"string\",\n",
    "                        \"description\": \"The unchanged prompt that the user provided.\",\n",
    "                    }\n",
    "                },\n",
    "                \"required\": [\"prompt\"],\n",
    "            },\n",
    "        },\n",
    "    },\n",
    "    {\n",
    "        \"type\": \"function\",\n",
    "        \"function\": {\n",
    "            \"name\": \"analyze_sales_data\",\n",
    "            \"description\": \"Analyze sales data to extract insights\",\n",
    "            \"parameters\": {\n",
    "                \"type\": \"object\",\n",
    "                \"properties\": {\n",
    "                    \"data\": {\n",
    "                        \"type\": \"string\",\n",
    "                        \"description\": \"The lookup_sales_data tool's output.\",\n",
    "                    },\n",
    "                    \"prompt\": {\n",
    "                        \"type\": \"string\",\n",
    "                        \"description\": \"The unchanged prompt that the user provided.\",\n",
    "                    },\n",
    "                },\n",
    "                \"required\": [\"data\", \"prompt\"],\n",
    "            },\n",
    "        },\n",
    "    },\n",
    "    {\n",
    "        \"type\": \"function\",\n",
    "        \"function\": {\n",
    "            \"name\": \"generate_visualization\",\n",
    "            \"description\": \"Generate Python code to create data visualizations\",\n",
    "            \"parameters\": {\n",
    "                \"type\": \"object\",\n",
    "                \"properties\": {\n",
    "                    \"data\": {\n",
    "                        \"type\": \"string\",\n",
    "                        \"description\": \"The lookup_sales_data tool's output.\",\n",
    "                    },\n",
    "                    \"visualization_goal\": {\n",
    "                        \"type\": \"string\",\n",
    "                        \"description\": \"The goal of the visualization.\",\n",
    "                    },\n",
    "                },\n",
    "                \"required\": [\"data\", \"visualization_goal\"],\n",
    "            },\n",
    "        },\n",
    "    },\n",
    "]\n",
    "\n",
    "# Dictionary mapping function names to their implementations\n",
    "tool_implementations = {\n",
    "    \"lookup_sales_data\": lookup_sales_data,\n",
    "    \"analyze_sales_data\": analyze_sales_data,\n",
    "    \"generate_visualization\": generate_visualization,\n",
    "}"
   ]
  },
  {
   "cell_type": "markdown",
   "id": "8291cea7-d45f-429c-845a-53ba8cfc7485",
   "metadata": {},
   "source": [
    "### Router Logic"
   ]
  },
  {
   "cell_type": "markdown",
   "id": "8a7edb47-99cc-45d0-8d13-5d6238aee2a2",
   "metadata": {},
   "source": [
    "The router is composed of a main loop method, and a method to handle the tool calls that you get back from the model."
   ]
  },
  {
   "cell_type": "markdown",
   "id": "77f87aa9",
   "metadata": {},
   "source": [
    "The following two cells define the function `handle_tool_calls` and the variable `SYSTEM_PROMPT`, which will be used by the function `run_agent` defining the router logic."
   ]
  },
  {
   "cell_type": "code",
   "execution_count": 20,
   "id": "ce938658-35c9-4cda-b0d8-0b89494830c4",
   "metadata": {
    "height": 198
   },
   "outputs": [],
   "source": [
    "# code for executing the tools returned in the model's response\n",
    "def handle_tool_calls(tool_calls, messages):\n",
    "\n",
    "    for tool_call in tool_calls:\n",
    "        function = tool_implementations[tool_call.function.name]\n",
    "        function_args = json.loads(tool_call.function.arguments)\n",
    "        result = function(**function_args)\n",
    "        messages.append(\n",
    "            {\"role\": \"tool\", \"content\": result, \"tool_call_id\": tool_call.id}\n",
    "        )\n",
    "\n",
    "    return messages"
   ]
  },
  {
   "cell_type": "code",
   "execution_count": 21,
   "id": "5b24bce5-477f-4e21-af18-4b784282aaa1",
   "metadata": {
    "height": 79
   },
   "outputs": [],
   "source": [
    "SYSTEM_PROMPT = \"\"\"\n",
    "You are a helpful assistant that can answer questions about the Store Sales Price Elasticity Promotions dataset.\n",
    "\"\"\""
   ]
  },
  {
   "cell_type": "code",
   "execution_count": 22,
   "id": "f0eacdb0-d8c4-4686-9fda-7b7c12ae2c35",
   "metadata": {
    "height": 555
   },
   "outputs": [],
   "source": [
    "def run_agent(messages):\n",
    "    print(\"Running agent with messages:\", messages)\n",
    "\n",
    "    if isinstance(messages, str):\n",
    "        messages = [{\"role\": \"user\", \"content\": messages}]\n",
    "\n",
    "    # Check and add system prompt if needed\n",
    "    if not any(\n",
    "        isinstance(message, dict) and message.get(\"role\") == \"system\"\n",
    "        for message in messages\n",
    "    ):\n",
    "        system_prompt = {\"role\": \"system\", \"content\": SYSTEM_PROMPT}\n",
    "        messages.append(system_prompt)\n",
    "\n",
    "    while True:\n",
    "        print(\"Making router call to OpenAI\")\n",
    "        response = client.chat.completions.create(\n",
    "            model=MODEL,\n",
    "            messages=messages,\n",
    "            tools=tools,\n",
    "        )\n",
    "        messages.append(response.choices[0].message)\n",
    "        tool_calls = response.choices[0].message.tool_calls\n",
    "        print(\"Received response with tool calls:\", bool(tool_calls))\n",
    "\n",
    "        # if the model decides to call function(s), call handle_tool_calls\n",
    "        if tool_calls:\n",
    "            print(\"Processing tool calls\")\n",
    "            messages = handle_tool_calls(tool_calls, messages)\n",
    "        else:\n",
    "            print(\"No tool calls, returning final response\")\n",
    "            return response.choices[0].message.content"
   ]
  },
  {
   "cell_type": "code",
   "execution_count": 23,
   "id": "d5bb8861-7304-4d4a-ac8b-6ca1d7193e59",
   "metadata": {
    "height": 45
   },
   "outputs": [
    {
     "name": "stdout",
     "output_type": "stream",
     "text": [
      "Running agent with messages: Show me the code for graph of sales by store in Nov 2021, and tell me what trends you see.\n",
      "Making router call to OpenAI\n",
      "Received response with tool calls: True\n",
      "Processing tool calls\n",
      "Making router call to OpenAI\n",
      "Received response with tool calls: True\n",
      "Processing tool calls\n",
      "Making router call to OpenAI\n",
      "Received response with tool calls: True\n",
      "Processing tool calls\n",
      "Making router call to OpenAI\n",
      "Received response with tool calls: False\n",
      "No tool calls, returning final response\n"
     ]
    }
   ],
   "source": [
    "result = run_agent(\n",
    "    \"Show me the code for graph of sales by store in Nov 2021, and tell me what trends you see.\"\n",
    ")"
   ]
  },
  {
   "cell_type": "code",
   "execution_count": 24,
   "id": "b1a59674-5bb3-4983-95ca-809e26743e87",
   "metadata": {
    "height": 64,
    "scrolled": true
   },
   "outputs": [
    {
     "name": "stdout",
     "output_type": "stream",
     "text": [
      "Here is the code for generating a bar graph of total sales by store for November 2021:\n",
      "\n",
      "```python\n",
      "import pandas as pd\n",
      "import matplotlib.pyplot as plt\n",
      "from io import StringIO\n",
      "\n",
      "# Data representing sales\n",
      "data_text = \"\"\"Store_Number  Total_Quantity_Sold  Total_Sales_Value\n",
      "0            880               1525.0       17753.769956\n",
      "1           4180                913.0       10213.819920\n",
      "2            550                764.0        9554.049975\n",
      "3           1650               1770.0       23186.909958\n",
      "4           2420               1370.0       15234.709888\n",
      "5            660               1208.0       13041.239901\n",
      "6            770                973.0        9181.769959\n",
      "7           2640               1005.0       10891.639931\n",
      "8           2090               1080.0       11617.179888\n",
      "9           4840               1612.0       19127.169971\n",
      "10          3080               1454.0       18044.450005\n",
      "11          1320               1701.0       19553.789981\n",
      "12          1540               1801.0       21207.689942\n",
      "13          4070                932.0        9161.409921\n",
      "14          4730                819.0       10571.779962\n",
      "15          2970               2312.0       31000.569969\n",
      "16          2530                890.0       11139.740003\n",
      "17          3740                949.0       10719.049952\n",
      "18          4400                225.0        4390.689987\n",
      "19           990               1280.0       15101.459945\n",
      "20          3410               1345.0       15982.159946\n",
      "21          2200               1513.0       16854.439921\n",
      "22          2310               1594.0       16611.539945\n",
      "23          1870               1648.0       17091.849894\n",
      "24          3630               1311.0       14202.299958\n",
      "25          1100               1712.0       19298.679917\n",
      "26          3300               1859.0       23730.719905\n",
      "27          3190               1003.0       11934.999961\n",
      "28          1210               1821.0       21021.669984\n",
      "29          2750               1462.0       16310.409961\n",
      "30          1760               1207.0       14598.209948\n",
      "31          1980                893.0        9084.959929\n",
      "32           330               1105.0       12569.599911\"\"\"\n",
      "\n",
      "# Read the data into a pandas DataFrame\n",
      "data = pd.read_csv(StringIO(data_text), sep=\"\\s+\")\n",
      "\n",
      "# Plot\n",
      "plt.figure(figsize=(10, 6))\n",
      "plt.bar(data['Store_Number'], data['Total_Sales_Value'], color='skyblue')\n",
      "plt.title('Total Sales by Store for November 2021')\n",
      "plt.xlabel('Store Number')\n",
      "plt.ylabel('Total Sales Value')\n",
      "plt.xticks(rotation=45)\n",
      "plt.grid(axis='y')\n",
      "plt.tight_layout()\n",
      "\n",
      "# Show the plot\n",
      "plt.show()\n",
      "```\n",
      "\n",
      "### Trends and Insights\n",
      "\n",
      "1. **High Performers:**\n",
      "   - **Store 15** achieved the highest sales value of **$31,000.57** with **2,312 items sold**, indicating effective sales strategies or high-value items.\n",
      "   - Other strong performers include **Store 3** and **Store 26**, which also sold large volumes and generated significant sales values.\n",
      "\n",
      "2. **Low Performers:**\n",
      "   - **Store 18's** performance is notably low, with just **$4,390.69** in sales and only **225 items sold**. This might indicate poor location, lack of marketing efforts, or product alignment issues.\n",
      "   - **Store 14** also shows lower performance compared to peers.\n",
      "\n",
      "3. **Quantity vs. Sales Value:**\n",
      "   - There seems to be a positive correlation between the total quantity sold and the total sales value. Stores that sold more units generally had higher sales figures, suggesting that either they had competitive pricing or more appealing products.\n",
      "  \n",
      "4. **Variability:**\n",
      "   - Sales vary significantly across stores. Some stores are performing exceptionally well, while others lag, indicating a potential area for targeted strategies to enhance overall performance.\n",
      "\n",
      "5. **Strategic Focus:**\n",
      "   - Opportunities exist for analyzing high-performing stores to replicate successful strategies in low-performing locations, perhaps through inventory adjustments, marketing efforts, or product re-evaluations. \n",
      "\n",
      "6. **Customer Insights:**\n",
      "   - Further analysis on customer behavior at top-contributing stores could provide insights into which factors are driving sales and how similar engagement can be fostered in underperforming stores.\n",
      "\n",
      "Continual monitoring of sales and refining analysis will be essential in capitalizing on these insights for improved profitability across all stores.\n"
     ]
    }
   ],
   "source": [
    "print(result)\n",
    "# you can also print a formatted version of the result\n",
    "# Markdown(result)"
   ]
  },
  {
   "cell_type": "code",
   "execution_count": null,
   "id": "0d355aeb-7317-4fe1-b844-f3b24ddaa266",
   "metadata": {},
   "outputs": [],
   "source": []
  }
 ],
 "metadata": {
  "kernelspec": {
   "display_name": "Python 3 (ipykernel)",
   "language": "python",
   "name": "python3"
  },
  "language_info": {
   "codemirror_mode": {
    "name": "ipython",
    "version": 3
   },
   "file_extension": ".py",
   "mimetype": "text/x-python",
   "name": "python",
   "nbconvert_exporter": "python",
   "pygments_lexer": "ipython3",
   "version": "3.11.12"
  }
 },
 "nbformat": 4,
 "nbformat_minor": 5
}
